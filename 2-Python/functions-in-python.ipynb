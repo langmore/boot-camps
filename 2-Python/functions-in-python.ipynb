{
 "metadata": {
  "name": "functions-in-python"
 },
 "nbformat": 3,
 "nbformat_minor": 0,
 "worksheets": [
  {
   "cells": [
    {
     "cell_type": "markdown",
     "metadata": {},
     "source": [
      "Let's learn about python functions today by writing one to calculate the average of a list of numbers.  The keyword \"def\" introduces a function followed by the function name and the input to the functions."
     ]
    },
    {
     "cell_type": "markdown",
     "metadata": {},
     "source": [
      "We've already learned about some python functions."
     ]
    },
    {
     "cell_type": "code",
     "collapsed": false,
     "input": [
      "len('happy')"
     ],
     "language": "python",
     "metadata": {},
     "outputs": []
    },
    {
     "cell_type": "markdown",
     "metadata": {},
     "source": [
      "Now, let's write one."
     ]
    },
    {
     "cell_type": "markdown",
     "metadata": {},
     "source": [
      "def myfunction(input):\n",
      "\n",
      "    do something\n",
      "\n",
      "    return something"
     ]
    },
    {
     "cell_type": "code",
     "collapsed": false,
     "input": [
      "#some tricks about lists before we start\n",
      "\n",
      "l = [1, 2, 3, 4, 5]\n",
      "print len(l)\n",
      "print sum(l)\n",
      "print sorted(l, reverse=True)"
     ],
     "language": "python",
     "metadata": {},
     "outputs": []
    },
    {
     "cell_type": "code",
     "collapsed": true,
     "input": [
      "def average(list_input):\n",
      "    sum_list = sum(list_input)\n",
      "    total_list = len(list_input)\n",
      "    average_list = float(sum_list)/total_list\n",
      "    return average_list"
     ],
     "language": "python",
     "metadata": {},
     "outputs": []
    },
    {
     "cell_type": "code",
     "collapsed": false,
     "input": [
      "l = [1, 2, 3, 4, 5]\n",
      "average(l)"
     ],
     "language": "python",
     "metadata": {},
     "outputs": []
    },
    {
     "cell_type": "code",
     "collapsed": false,
     "input": [
      "list2 = [1, 1, 1, 1, 1]\n",
      "average(list2)"
     ],
     "language": "python",
     "metadata": {},
     "outputs": []
    },
    {
     "cell_type": "markdown",
     "metadata": {},
     "source": [
      "Exercise:\n",
      "\n",
      "Write a function that takes an input of a list and returns the list in sorted order."
     ]
    },
    {
     "cell_type": "code",
     "collapsed": true,
     "input": [],
     "language": "python",
     "metadata": {},
     "outputs": []
    }
   ],
   "metadata": {}
  }
 ]
}