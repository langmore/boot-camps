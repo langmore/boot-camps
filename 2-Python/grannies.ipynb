{
 "metadata": {
  "name": "grannies"
 },
 "nbformat": 3,
 "nbformat_minor": 0,
 "worksheets": [
  {
   "cells": [
    {
     "cell_type": "markdown",
     "metadata": {},
     "source": [
      "### Scientific Python Basics\n",
      "\n",
      "## Software Carpentry Bootcamp\n",
      "## Columbia University, NYC,\n",
      "## January 2013\n",
      "Created by: Adina Howe and David Warde-Farley\n",
      "\n",
      "Modified and presented by:  Ian Langmore"
     ]
    },
    {
     "cell_type": "markdown",
     "metadata": {},
     "source": [
      "---\n",
      "\n",
      "# Outline of the Problem\n",
      "\n",
      "A student's grandmother is far more likely to \n",
      "die suddenly just before the student takes an exam, than at any other time of year.  See [this article](http://www.math.toronto.edu/mpugh/DeadGrandmother.pdf)\n",
      "\n",
      "---"
     ]
    },
    {
     "cell_type": "code",
     "collapsed": false,
     "input": [
      "## You can call a shell function by putting ! at the beginning\n",
      "! ls"
     ],
     "language": "python",
     "metadata": {},
     "outputs": [
      {
       "output_type": "stream",
       "stream": "stdout",
       "text": [
        "grades_short.txt  grannies.ipynb      grannies.txt  student-info.txt\r\n",
        "grades.txt\t  grannies_short.txt  index.rst     students.txt.gz\r\n"
       ]
      }
     ],
     "prompt_number": 50
    },
    {
     "cell_type": "code",
     "collapsed": false,
     "input": [
      "## grades.txt contains:\n",
      "## student_id, grade, letter_grade\n",
      "!head grades.txt"
     ],
     "language": "python",
     "metadata": {},
     "outputs": [
      {
       "output_type": "stream",
       "stream": "stdout",
       "text": [
        "990182545,80.018496057,'B'\r\n",
        "990011440,84.3085396697,'B'\r\n",
        "990086500,55.7301614131,'D'\r\n",
        "990032870,68.6541710138,'C'\r\n",
        "990184455,59.4840961005,'D'\r\n",
        "990181395,66.6855281781,'C'\r\n",
        "990144940,73.3472315477,'B'\r\n",
        "990163645,78.76443724,'B'\r\n",
        "990227075,61.2958542874,'C'\r\n",
        "990246230,71.4371734198,'B'\r\n"
       ]
      }
     ],
     "prompt_number": 51
    },
    {
     "cell_type": "code",
     "collapsed": false,
     "input": [
      "## grannies.txt contains students ids, the number of deaths when the student\n",
      "## had no test in the upcoming 2 weeks, a midterm in the upcoming 2 weeks, \n",
      "## and a final in the upcoming two weeks.  \n",
      "#\n",
      "## student_id, numdeaths_notest, numdeaths_midterm, numdeaths_final\n",
      "\n",
      "!head grannies.txt"
     ],
     "language": "python",
     "metadata": {},
     "outputs": [
      {
       "output_type": "stream",
       "stream": "stdout",
       "text": [
        "990182545,0,0,0\r\n",
        "990011440,0,0,0\r\n",
        "990086500,0,0,0\r\n",
        "990032870,0,0,1\r\n",
        "990184455,1,0,0\r\n",
        "990181395,0,0,0\r\n",
        "990144940,0,0,1\r\n",
        "990163645,0,0,0\r\n",
        "990227075,0,0,0\r\n",
        "990246230,0,0,0\r\n"
       ]
      }
     ],
     "prompt_number": 52
    },
    {
     "cell_type": "code",
     "collapsed": false,
     "input": [
      "## These files are sort of large\n",
      "! wc -l *txt"
     ],
     "language": "python",
     "metadata": {},
     "outputs": [
      {
       "output_type": "stream",
       "stream": "stdout",
       "text": [
        "  51350 grades.txt\r\n",
        "     10 grades_short.txt\r\n",
        "  51350 grannies.txt\r\n",
        "     10 grannies_short.txt\r\n",
        "     10 student-info.txt\r\n",
        " 102730 total\r\n"
       ]
      }
     ],
     "prompt_number": 54
    },
    {
     "cell_type": "markdown",
     "metadata": {},
     "source": [
      "We want to know if there is a correlation between a student's grade, deaths of family members, and their upcoming exam stress. So we need to know:\n",
      "\n",
      "For students with different grades (A, B, C, D, F), what is the total number of deaths when there are\n",
      "\n",
      "  * no upcoming exams\n",
      "  * a midterm\n",
      "  * a final."
     ]
    },
    {
     "cell_type": "markdown",
     "metadata": {},
     "source": [
      "---\n",
      "\n",
      "# Prepare a deaths vs. exam dataset\n",
      "\n",
      "---"
     ]
    },
    {
     "cell_type": "markdown",
     "metadata": {},
     "source": [
      "### Step 1, make small test datasets using the shell\n",
      "\n",
      "    head grannies.txt  >  grannies_short.txt\n",
      "    head grades.txt  >  grades_short.txt"
     ]
    },
    {
     "cell_type": "markdown",
     "metadata": {},
     "source": [
      "### Step 2: Make a joined dataset\n",
      "\n",
      "* Use dictionaries with student id as the key"
     ]
    },
    {
     "cell_type": "code",
     "collapsed": true,
     "input": [
      "## First work with the short dataset.  \n",
      "## To work with the full data, remove the '_short' suffix\n",
      "grannies_filename = \"grannies_short.txt\"\n",
      "grades_filename = \"grades_short.txt\""
     ],
     "language": "python",
     "metadata": {},
     "outputs": [],
     "prompt_number": 67
    },
    {
     "cell_type": "code",
     "collapsed": false,
     "input": [
      "## Make a dictionary containing a record of grandmother deaths\n",
      "\n",
      "grannies_file = open(grannies_filename, 'r')\n",
      "\n",
      "deaths = {}\n",
      "\n",
      "for line in grannies_file:\n",
      "    dat = line.rstrip().split(',')\n",
      "    student = dat[0]\n",
      "    exam0, exam1, exam2 = dat[1], dat[2], dat[3]\n",
      "    deaths[student] = [exam0, exam1, exam2]"
     ],
     "language": "python",
     "metadata": {},
     "outputs": [],
     "prompt_number": 56
    },
    {
     "cell_type": "code",
     "collapsed": false,
     "input": [
      "## Make a dictionary containing grades\n",
      "\n",
      "grades_file = open(grades_filename, 'r')\n",
      "\n",
      "grades = {}\n",
      "\n",
      "for line in grades_file:\n",
      "    dat = line.rstrip().split(',')\n",
      "    student = dat[0]\n",
      "    grade_num, grade_alpha = dat[1], dat[2]\n",
      "    grades[student] = [grade_num, grade_alpha]"
     ],
     "language": "python",
     "metadata": {},
     "outputs": [],
     "prompt_number": 57
    },
    {
     "cell_type": "code",
     "collapsed": false,
     "input": [
      "## Merge the grades and deaths into a new file\n",
      "\n",
      "outfile = open('student-info.txt', 'w')\n",
      "\n",
      "for student in deaths:\n",
      "    \n",
      "    # Write the student id\n",
      "    outfile.write('%s ' % student)\n",
      "    \n",
      "    # Write the deaths\n",
      "    deaths_for_this_student = deaths[student]\n",
      "    for item in deaths_for_this_student:\n",
      "        outfile.write('%s ' % item)\n",
      "        \n",
      "    # Write the grades\n",
      "    grades_for_this_student = grades[student]\n",
      "    for item in grades_for_this_student:\n",
      "        outfile.write('%s ' % item)\n",
      "        \n",
      "    # Write a newline\n",
      "    outfile.write('\\n')\n",
      "\n",
      "outfile.close()"
     ],
     "language": "python",
     "metadata": {},
     "outputs": [],
     "prompt_number": 58
    },
    {
     "cell_type": "code",
     "collapsed": false,
     "input": [
      "! head student-info.txt"
     ],
     "language": "python",
     "metadata": {},
     "outputs": [
      {
       "output_type": "stream",
       "stream": "stdout",
       "text": [
        "990119785 0 0 0 64.4019973375 'C' \r\n",
        "990162735 0 0 0 70.5143152415 'B' \r\n",
        "990119780 0 0 0 88.4154280604 'A' \r\n",
        "990219565 0 0 0 83.4197865809 'B' \r\n",
        "990144000 0 0 0 67.2402481625 'C' \r\n",
        "990061530 0 0 0 84.1021278219 'B' \r\n",
        "990168470 0 0 0 86.0887253329 'A' \r\n",
        "990144005 0 0 0 56.3743467667 'D' \r\n",
        "990168475 0 0 0 71.9040675472 'B' \r\n",
        "990061535 0 0 0 53.7354499276 'D' \r\n"
       ]
      }
     ],
     "prompt_number": 59
    },
    {
     "cell_type": "markdown",
     "metadata": {},
     "source": [
      "---\n",
      "\n",
      "# Get total deaths given grade and exam type\n",
      "\n",
      "---"
     ]
    },
    {
     "cell_type": "code",
     "collapsed": true,
     "input": [
      "info_file = open('student-info.txt', 'r')\n",
      "\n",
      "## Create structures to hold number of deaths for people who got each grade\n",
      "# Initialize them to zero\n",
      "zero = {'A': 0, 'B': 0, 'C': 0, 'D': 0, 'F': 0}\n",
      "mid = {'A': 0, 'B': 0, 'C': 0, 'D': 0, 'F': 0}\n",
      "final = {'A': 0, 'B': 0, 'C': 0, 'D': 0, 'F': 0}\n",
      "\n",
      "\n",
      "\n",
      "for line in info_file:\n",
      "    # Convert the (space-separated) line into a list\n",
      "    dat = line.rstrip().split(' ')\n",
      "    \n",
      "    # Extract data from the list\n",
      "    student = dat[0]\n",
      "    grannies_zero, grannies_mid, grannies_final = int(dat[1]), int(dat[2]), int(dat[3])\n",
      "    quoted_grade = dat[-1]\n",
      "    grade = quoted_grade.strip(\"'\")\n",
      "    \n",
      "    # Insert data into zero, mid, final variables\n",
      "    zero[grade] = zero[grade] + int(grannies_zero)\n",
      "    mid[grade] = mid[grade] + int(grannies_mid)\n",
      "    final[grade] = final[grade] + int(grannies_final)"
     ],
     "language": "python",
     "metadata": {},
     "outputs": [],
     "prompt_number": 61
    },
    {
     "cell_type": "markdown",
     "metadata": {},
     "source": [
      "###Exercise: \n",
      "\n",
      "Re-write this using a dictionaries get() method that eliminates\n",
      "the need to initialize the dictionaries to 0\n",
      "\n",
      "* Create an empty box using \"Insert Cell Above\"\n",
      "* Type `dict.get?` and hit `shift-enter` to see the help file"
     ]
    },
    {
     "cell_type": "markdown",
     "metadata": {},
     "source": [
      "**Questions:**\n",
      "\n",
      "* Why did we store the total deaths in dictionaries?\n",
      "* What is not ideal about storing things like this?"
     ]
    },
    {
     "cell_type": "markdown",
     "metadata": {},
     "source": [
      "---\n",
      "\n",
      "# Plot stuff\n",
      "\n",
      "---"
     ]
    },
    {
     "cell_type": "markdown",
     "metadata": {},
     "source": [
      "###Step 1:\n",
      "\n",
      "Put this data in the \"right\" form for visualization or mathematics \n",
      "\n",
      "* The \"right\" data structure to plot this is a dictionary of lists with index information\n",
      "* Pandas provides a much easier way to do this"
     ]
    },
    {
     "cell_type": "code",
     "collapsed": false,
     "input": [
      "data = {'zero': zero, 'mid': mid, 'final': final}\n",
      "\n",
      "# We will store the data in \n",
      "letters = ['A', 'B', 'C', 'D']\n",
      "columns = {'zero': [], 'mid': [], 'final': []}"
     ],
     "language": "python",
     "metadata": {},
     "outputs": [],
     "prompt_number": 62
    },
    {
     "cell_type": "code",
     "collapsed": false,
     "input": [
      "## Populate columns\n",
      "for exam in data:\n",
      "    death_counts = []\n",
      "    grades = data[exam]\n",
      "    for oneletter in letters:\n",
      "        count = grades[oneletter]\n",
      "        death_counts.append(count)\n",
      "    columns[exam] = death_counts"
     ],
     "language": "python",
     "metadata": {},
     "outputs": [],
     "prompt_number": 63
    },
    {
     "cell_type": "markdown",
     "metadata": {},
     "source": [
      "###Step 2:\n",
      "\n",
      "Plot"
     ]
    },
    {
     "cell_type": "code",
     "collapsed": false,
     "input": [
      "import matplotlib.pyplot as plt\n",
      "import numpy as np"
     ],
     "language": "python",
     "metadata": {},
     "outputs": [],
     "prompt_number": 64
    },
    {
     "cell_type": "code",
     "collapsed": false,
     "input": [
      "## Plot results for the people without an exam\n",
      "plt.plot(columns['zero'], label='zero')\n",
      "plt.xticks(range(len(columns['zero'])), letters)\n",
      "\n",
      "leg = plt.legend()"
     ],
     "language": "python",
     "metadata": {},
     "outputs": [
      {
       "output_type": "display_data",
       "png": "[encoded data removed]"
      }
     ],
     "prompt_number": 65
    },
    {
     "cell_type": "markdown",
     "metadata": {},
     "source": [
      "###Exercise:\n",
      "Use a for loop to plot all columns in one figure"
     ]
    }
   ],
   "metadata": {}
  }
 ]
}